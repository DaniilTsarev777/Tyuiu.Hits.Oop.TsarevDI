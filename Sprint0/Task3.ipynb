{
 "cells": [
  {
   "cell_type": "markdown",
   "metadata": {},
   "source": [
    "<h1 style=\"color:DodgerBlue\">Индивидальный проект</h1>"
   ]
  },
  {
   "cell_type": "markdown",
   "metadata": {},
   "source": [
    "<h2 style=\"color:Red\">Название проекта: <b style=\"color:Blue\">Review</b></h2> \n",
    "\n",
    "----\n",
    "\n",
    "### Вариант задания: <b style = \"color:orange\">18</b>\n"
   ]
  },
  {
   "cell_type": "markdown",
   "metadata": {},
   "source": [
    "<h2 style=\"color:DodgerBlue\">Описание проекта:</h2>\n",
    "\n",
    "----\n",
    "Создать базовый класс Review в C#, который будет представлять отзывы о \n",
    "продуктах или услугах. На основе этого класса разработать 2-3 производных класса, \n",
    "демонстрирующих принципы наследования и полиморфизма. В каждом из классов \n",
    "должны быть реализованы новые атрибуты и методы, а также переопределены \n",
    "некоторые методы базового класса для демонстрации полиморфизма. \n",
    "Требования к базовому классу Review: \n",
    "• Атрибуты: ID отзыва (ReviewId), Текст отзыва (Text), Рейтинг (Rating). \n",
    "• Методы: \n",
    "o DisplayReview(): метод для отображения отзыва. \n",
    "o RateProduct(): метод для присвоения рейтинга продукту. \n",
    "o GetReviewDetails(): метод для получения деталей отзыва. \n",
    "Требования к производным классам: \n",
    "1. ОтзывОбслуживания (ServiceReview): Должен содержать дополнительные \n",
    "атрибуты, \n",
    "такие \n",
    "как \n",
    "Дата \n",
    "посещения \n",
    "(VisitDate). \n",
    "Метод DisplayReview() должен быть переопределен для включения даты \n",
    "посещения в отображение отзыва. \n",
    "2. ОтзывТовара (ProductReview): Должен содержать дополнительные атрибуты, \n",
    "такие как Идентификатор продукта (ProductId). Метод RateProduct() должен \n",
    "быть переопределен для связывания рейтинга с конкретным продуктом. \n",
    "3. ОтзывУслуги (ServiceReview) (если требуется третий класс): Должен \n",
    "содержать дополнительные атрибуты, такие как Время начала услуги \n",
    "(StartTime). Метод GetReviewDetails() должен быть переопределен для \n",
    "отображения времени начала услуги вместе с другими деталями отзыва.\n",
    "\n",
    "\n"
   ]
  },
  {
   "cell_type": "markdown",
   "metadata": {},
   "source": [
    "<h2 style=\"color:DodgerBlue\">Реализация:</h2>\n",
    "\n",
    "----"
   ]
  },
  {
   "cell_type": "code",
   "execution_count": 7,
   "metadata": {
    "dotnet_interactive": {
     "language": "csharp"
    },
    "polyglot_notebook": {
     "kernelName": "csharp"
    }
   },
   "outputs": [
    {
     "name": "stdout",
     "output_type": "stream",
     "text": [
      "--------------------------------------------\n",
      "\n",
      "ID отзыва: 1703, Дата посещения: 9/15/2025 9:55:18 PM, Оценка: 5/5\n",
      "Отзыв: Сотрудник помог с выбором товара\n",
      "ID отзыва: 1703, Оценка: 5/5\n",
      "Отзыв: Восхитительно! Товар полностью оправдал ожидания.\n",
      "\n",
      "--------------------------------------------\n",
      "\n",
      "ID отзыва: 5080, Дата посещения: 9/15/2025 9:55:18 PM, Оценка: 1/5\n",
      "Отзыв: Сотрудник просто неприемлемый, нагрубил мне! Сервис на полном дне!!!\n",
      "ID отзыва: 5080, Оценка: 1/5\n",
      "Отзыв: Отказался от покупки товара\n",
      "\n",
      "--------------------------------------------\n",
      "\n"
     ]
    }
   ],
   "source": [
    "public class Review\n",
    "{\n",
    "    public int ReviewId {get; set;}\n",
    "    public string Text {get; set;}\n",
    "    public int Rating {get; set;}\n",
    "\n",
    "    public Review(int id, string text, int rating)\n",
    "    {\n",
    "        ReviewId = id;\n",
    "        Text = text;\n",
    "        Rating = rating;\n",
    "    }\n",
    "\n",
    "    public virtual void DisplayReview()\n",
    "    {\n",
    "        Console.WriteLine($\"ID отзыва: {ReviewId}, Оценка: {Rating}/5\");\n",
    "    }\n",
    "\n",
    "    public virtual void RateProduct(int newRating)\n",
    "    {\n",
    "        Rating = newRating;\n",
    "    }\n",
    "\n",
    "    public void GetReviewDetails()\n",
    "    {\n",
    "        Console.WriteLine($\"Отзыв: {Text}\"); \n",
    "    }\n",
    "}\n",
    "\n",
    "public class ServiceReview : Review\n",
    "{\n",
    "    public DateTime VisitDate {get; set;}\n",
    "\n",
    "    public ServiceReview(int id, string text, int rating, DateTime visitDate) \n",
    "        : base(id, text, rating)\n",
    "    {\n",
    "        VisitDate = visitDate;\n",
    "    }\n",
    "\n",
    "    public override void DisplayReview()\n",
    "    {\n",
    "        Console.WriteLine($\"ID отзыва: {ReviewId}, Дата посещения: {VisitDate}, Оценка: {Rating}/5\");\n",
    "    }\n",
    "}\n",
    "\n",
    "\n",
    "public class ProductReview : Review\n",
    "{\n",
    "    public int ProductId {get; set;}\n",
    "    public ProductReview(int id, string text, int rating, int productId) \n",
    "        : base(id, text, rating)\n",
    "    {\n",
    "        ProductId = productId;\n",
    "    }\n",
    "    public override void RateProduct(int rating)\n",
    "    {\n",
    "        base.RateProduct(rating);\n",
    "        Console.WriteLine($\"ID отзыва: {ProductId} {Rating}/5.\");\n",
    "    }\n",
    "}\n",
    "\n",
    "DateTime reviewDate = DateTime.Now;\n",
    "Review productReview = new ProductReview(1703, \"Восхитительно! Товар полностью оправдал ожидания.\", 5, 123);\n",
    "Review serviceReview = new ServiceReview(1703, \"Сотрудник помог с выбором товара\", 5, reviewDate);\n",
    "\n",
    "Console.WriteLine(\"--------------------------------------------\");\n",
    "Console.WriteLine();\n",
    "\n",
    "serviceReview.DisplayReview();\n",
    "serviceReview.GetReviewDetails();\n",
    "productReview.DisplayReview();\n",
    "productReview.GetReviewDetails();\n",
    "\n",
    "\n",
    "Console.WriteLine();\n",
    "Console.WriteLine(\"--------------------------------------------\");\n",
    "Console.WriteLine();\n",
    "DateTime reviewDate1 = DateTime.Now;\n",
    "Review productReview1 = new ProductReview(5080, \"Отказался от покупки товара\", 1, 123);\n",
    "Review serviceReview1 = new ServiceReview(5080, \"Сотрудник просто неприемлемый, нагрубил мне! Сервис на полном дне!!!\", 1, reviewDate1);\n",
    "\n",
    "serviceReview1.DisplayReview();\n",
    "serviceReview1.GetReviewDetails();\n",
    "productReview1.DisplayReview();\n",
    "productReview1.GetReviewDetails();\n",
    "\n",
    "\n",
    "\n",
    "Console.WriteLine();\n",
    "Console.WriteLine(\"--------------------------------------------\");\n",
    "Console.WriteLine();\n"
   ]
  }
 ],
 "metadata": {
  "kernelspec": {
   "display_name": ".NET (C#)",
   "language": "C#",
   "name": ".net-csharp"
  },
  "polyglot_notebook": {
   "kernelInfo": {
    "defaultKernelName": "csharp",
    "items": [
     {
      "aliases": [],
      "languageName": "csharp",
      "name": "csharp"
     }
    ]
   }
  }
 },
 "nbformat": 4,
 "nbformat_minor": 2
}
